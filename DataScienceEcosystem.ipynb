{
 "cells": [
  {
   "cell_type": "markdown",
   "id": "7f4d5b8e-df3c-4ec9-b4a6-53bdbbbfdb11",
   "metadata": {
    "tags": []
   },
   "source": [
    "# Data Science Tools and Ecosystem\n",
    "\n",
    "In this notebook, Data Science Tools and Ecosystem are summarized."
   ]
  },
  {
   "cell_type": "markdown",
   "id": "08b28a9f-1d82-4cd0-9d12-ff4c5f6f7b3e",
   "metadata": {
    "tags": []
   },
   "source": [
    "**Objectives:**\n",
    "\n",
    "- List popular languages for Data Science.\n",
    "- Introduce commonly used libraries in Data Science.\n",
    "- Highlight essential tools in the Data Science ecosystem.\n",
    "- Provide examples of evaluating arithmetic expressions in Python.\n",
    "- Demonstrate basic conversions and calculations in Python for Data Science.\n"
   ]
  },
  {
   "cell_type": "markdown",
   "id": "61c31d30-9e29-40b9-af69-379c10c893c3",
   "metadata": {},
   "source": [
    "Some of the popular languages that Data Scientists use are:\n",
    "\n",
    "1. **Python**\n",
    "2. **R**\n",
    "3. **Julia**"
   ]
  },
  {
   "cell_type": "markdown",
   "id": "c5e4116a-086d-4011-a30f-5e9052a72480",
   "metadata": {},
   "source": [
    "Some of the commonly used libraries used by Data Scientists include:\n",
    "\n",
    "1. **Pandas** - A powerful data manipulation and analysis library for Python.\n",
    "2. **NumPy** - Provides support for large, multi-dimensional arrays and matrices, along with a collection of mathematical functions to operate on these arrays.\n",
    "3. **Matplotlib** - A versatile plotting library for creating static, animated, and interactive visualizations in Python."
   ]
  },
  {
   "cell_type": "markdown",
   "id": "94015183-30b7-4345-b1b9-9c5dd17e213f",
   "metadata": {
    "tags": []
   },
   "source": [
    "# Exercise 6 - Data Science Tools\n",
    "\n",
    "| Data Science Tools         |\n",
    "|----------------------------|\n",
    "| Jupyter Notebooks          |\n",
    "| RStudio                    |\n",
    "| VS Code with Python extension |\n"
   ]
  },
  {
   "cell_type": "markdown",
   "id": "2a84264a-869a-4abc-b799-d741aa5f5e2a",
   "metadata": {},
   "source": [
    "### Examples of Evaluating Arithmetic Expressions in Python\n",
    "\n",
    "Below are a few examples of evaluating arithmetic expressions in Python:"
   ]
  },
  {
   "cell_type": "code",
   "execution_count": 8,
   "id": "3d2e5873-c52d-40d2-bee9-cac48bba29e2",
   "metadata": {
    "tags": []
   },
   "outputs": [
    {
     "data": {
      "text/plain": [
       "17"
      ]
     },
     "execution_count": 8,
     "metadata": {},
     "output_type": "execute_result"
    }
   ],
   "source": [
    "# This is a simple arithmetic expression to multiply then add integers.\n",
    "result = (3 * 4) + 5\n",
    "result\n"
   ]
  },
  {
   "cell_type": "code",
   "execution_count": 9,
   "id": "beef8504-5f8d-476f-bc00-4538b3ca54ec",
   "metadata": {
    "tags": []
   },
   "outputs": [
    {
     "data": {
      "text/plain": [
       "3.3333333333333335"
      ]
     },
     "execution_count": 9,
     "metadata": {},
     "output_type": "execute_result"
    }
   ],
   "source": [
    "# This will convert 200 minutes to hours by dividing by 60.\n",
    "minutes = 200\n",
    "hours = minutes / 60\n",
    "hours\n"
   ]
  },
  {
   "cell_type": "markdown",
   "id": "b704343e-da8b-45ae-bc78-cf377af50846",
   "metadata": {},
   "source": [
    "## Author\n",
    "\n",
    "Shaishavkumar Amrutlal Patel\n"
   ]
  },
  {
   "cell_type": "code",
   "execution_count": null,
   "id": "596687db-7248-4263-b5b7-053a072b4bce",
   "metadata": {},
   "outputs": [],
   "source": []
  }
 ],
 "metadata": {
  "kernelspec": {
   "display_name": "Python",
   "language": "python",
   "name": "conda-env-python-py"
  },
  "language_info": {
   "codemirror_mode": {
    "name": "ipython",
    "version": 3
   },
   "file_extension": ".py",
   "mimetype": "text/x-python",
   "name": "python",
   "nbconvert_exporter": "python",
   "pygments_lexer": "ipython3",
   "version": "3.7.12"
  }
 },
 "nbformat": 4,
 "nbformat_minor": 5
}
